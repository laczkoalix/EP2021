{
 "cells": [
  {
   "cell_type": "code",
   "execution_count": 4,
   "id": "92ad2a25",
   "metadata": {},
   "outputs": [],
   "source": [
    "#importing all packages and functions that will be necesearry \n",
    "import pandas as pd\n",
    "import functions as fc\n",
    "from tqdm import tqdm\n",
    "import networkx as nx\n",
    "from sklearn.metrics import accuracy_score, confusion_matrix"
   ]
  },
  {
   "cell_type": "markdown",
   "id": "6b0a9847",
   "metadata": {},
   "source": [
    "# Prediction "
   ]
  },
  {
   "cell_type": "code",
   "execution_count": 5,
   "id": "4b6876df",
   "metadata": {},
   "outputs": [
    {
     "name": "stdout",
     "output_type": "stream",
     "text": [
      "loading profiles\n",
      "loading edges\n",
      "1    2642113\n",
      "2    1992414\n",
      "Name: source, dtype: int64\n",
      "Selected profiles: 695406\n",
      "Nodes with edges: 434590\n"
     ]
    }
   ],
   "source": [
    "#from the raw data we creat a DF for edges and nodes\n",
    "# the function cleared and filtered it for the relevant profiles \n",
    "nodes, edges = fc.load_and_select_profiles_and_edges()"
   ]
  },
  {
   "cell_type": "code",
   "execution_count": 6,
   "id": "4e4348f9",
   "metadata": {},
   "outputs": [
    {
     "data": {
      "text/html": [
       "<div>\n",
       "<style scoped>\n",
       "    .dataframe tbody tr th:only-of-type {\n",
       "        vertical-align: middle;\n",
       "    }\n",
       "\n",
       "    .dataframe tbody tr th {\n",
       "        vertical-align: top;\n",
       "    }\n",
       "\n",
       "    .dataframe thead th {\n",
       "        text-align: right;\n",
       "    }\n",
       "</style>\n",
       "<table border=\"1\" class=\"dataframe\">\n",
       "  <thead>\n",
       "    <tr style=\"text-align: right;\">\n",
       "      <th></th>\n",
       "      <th>user_id</th>\n",
       "      <th>public</th>\n",
       "      <th>gender</th>\n",
       "      <th>region</th>\n",
       "      <th>AGE</th>\n",
       "      <th>TRAIN_TEST</th>\n",
       "    </tr>\n",
       "  </thead>\n",
       "  <tbody>\n",
       "    <tr>\n",
       "      <th>0</th>\n",
       "      <td>1</td>\n",
       "      <td>1</td>\n",
       "      <td>1.0</td>\n",
       "      <td>zilinsky kraj, zilina</td>\n",
       "      <td>26.0</td>\n",
       "      <td>TRAIN</td>\n",
       "    </tr>\n",
       "    <tr>\n",
       "      <th>4</th>\n",
       "      <td>4</td>\n",
       "      <td>1</td>\n",
       "      <td>0.0</td>\n",
       "      <td>banskobystricky kraj, brezno</td>\n",
       "      <td>26.0</td>\n",
       "      <td>TRAIN</td>\n",
       "    </tr>\n",
       "    <tr>\n",
       "      <th>5</th>\n",
       "      <td>17</td>\n",
       "      <td>1</td>\n",
       "      <td>0.0</td>\n",
       "      <td>zilinsky kraj, martin</td>\n",
       "      <td>27.0</td>\n",
       "      <td>TRAIN</td>\n",
       "    </tr>\n",
       "    <tr>\n",
       "      <th>6</th>\n",
       "      <td>5</td>\n",
       "      <td>1</td>\n",
       "      <td>1.0</td>\n",
       "      <td>zilinsky kraj, zilina</td>\n",
       "      <td>26.0</td>\n",
       "      <td>TRAIN</td>\n",
       "    </tr>\n",
       "    <tr>\n",
       "      <th>7</th>\n",
       "      <td>18</td>\n",
       "      <td>1</td>\n",
       "      <td>1.0</td>\n",
       "      <td>zilinsky kraj, kysucke nove mesto</td>\n",
       "      <td>18.0</td>\n",
       "      <td>TRAIN</td>\n",
       "    </tr>\n",
       "  </tbody>\n",
       "</table>\n",
       "</div>"
      ],
      "text/plain": [
       "   user_id  public  gender                             region   AGE TRAIN_TEST\n",
       "0        1       1     1.0              zilinsky kraj, zilina  26.0      TRAIN\n",
       "4        4       1     0.0       banskobystricky kraj, brezno  26.0      TRAIN\n",
       "5       17       1     0.0              zilinsky kraj, martin  27.0      TRAIN\n",
       "6        5       1     1.0              zilinsky kraj, zilina  26.0      TRAIN\n",
       "7       18       1     1.0  zilinsky kraj, kysucke nove mesto  18.0      TRAIN"
      ]
     },
     "execution_count": 6,
     "metadata": {},
     "output_type": "execute_result"
    }
   ],
   "source": []
  },
  {
   "cell_type": "code",
   "execution_count": 7,
   "id": "9f693ff3",
   "metadata": {},
   "outputs": [
    {
     "name": "stderr",
     "output_type": "stream",
     "text": [
      "100%|██████████| 40000/40000 [07:00<00:00, 95.02it/s] \n"
     ]
    }
   ],
   "source": [
    "#spillting the nodes database for TEST and TRAIN DFs for estimation the selection already happened above\n",
    "\n",
    "nodes_test, nodes_train = [x for _, x in nodes.groupby(nodes['TRAIN_TEST'] == 'TRAIN')]\n",
    "\n",
    "# Creating graphs from the new datasets \n",
    "\n",
    "G_test = fc.create_graph_from_nodes_and_edges(nodes_test, edges)\n",
    "G_train = fc.create_graph_from_nodes_and_edges(nodes_train, edges)\n",
    "\n",
    "# With the graphs we try to predict the missing genders in the test graph by counting the gender of the neighbours\n",
    "# if a node has more male neighbours then it is probably a male and reverse \n",
    "# the prediction is done with iteration \n",
    "\n",
    "pred_gend = []\n",
    "for userid in tqdm(nodes_test.user_id):\n",
    "    neighbors_it = set(G_train.neighbors(userid))\n",
    "    genders = nodes_train[nodes_train.user_id.isin(neighbors_it)].dropna() \\\n",
    "        .groupby('gender').count()\n",
    "    try:\n",
    "        males = genders.loc[1, 'user_id']\n",
    "    except:\n",
    "        males = 0\n",
    "    try:\n",
    "        females = genders.loc[0, 'user_id']\n",
    "    except:\n",
    "        females = 0\n",
    "\n",
    "    if males >= females:\n",
    "        pred_gend.append(1)\n",
    "    else:\n",
    "        pred_gend.append(0)\n",
    "    \n",
    "\n",
    "prediction = pd.DataFrame(dict(user_id = nodes_test.user_id, gender = pred_gend))\n"
   ]
  },
  {
   "cell_type": "code",
   "execution_count": 19,
   "id": "c60fdfd0",
   "metadata": {},
   "outputs": [
    {
     "data": {
      "text/html": [
       "<div>\n",
       "<style scoped>\n",
       "    .dataframe tbody tr th:only-of-type {\n",
       "        vertical-align: middle;\n",
       "    }\n",
       "\n",
       "    .dataframe tbody tr th {\n",
       "        vertical-align: top;\n",
       "    }\n",
       "\n",
       "    .dataframe thead th {\n",
       "        text-align: right;\n",
       "    }\n",
       "</style>\n",
       "<table border=\"1\" class=\"dataframe\">\n",
       "  <thead>\n",
       "    <tr style=\"text-align: right;\">\n",
       "      <th></th>\n",
       "      <th>user_id</th>\n",
       "      <th>public</th>\n",
       "      <th>gender</th>\n",
       "      <th>region</th>\n",
       "      <th>AGE</th>\n",
       "      <th>TRAIN_TEST</th>\n",
       "    </tr>\n",
       "  </thead>\n",
       "  <tbody>\n",
       "    <tr>\n",
       "      <th>65</th>\n",
       "      <td>80</td>\n",
       "      <td>1</td>\n",
       "      <td>1.0</td>\n",
       "      <td>zahranicie, zahranicie - ostatne</td>\n",
       "      <td>NaN</td>\n",
       "      <td>TEST</td>\n",
       "    </tr>\n",
       "    <tr>\n",
       "      <th>116</th>\n",
       "      <td>140</td>\n",
       "      <td>1</td>\n",
       "      <td>0.0</td>\n",
       "      <td>zilinsky kraj, kysucke nove mesto</td>\n",
       "      <td>NaN</td>\n",
       "      <td>TEST</td>\n",
       "    </tr>\n",
       "    <tr>\n",
       "      <th>178</th>\n",
       "      <td>229</td>\n",
       "      <td>1</td>\n",
       "      <td>0.0</td>\n",
       "      <td>banskobystricky kraj, brezno</td>\n",
       "      <td>NaN</td>\n",
       "      <td>TEST</td>\n",
       "    </tr>\n",
       "    <tr>\n",
       "      <th>185</th>\n",
       "      <td>272</td>\n",
       "      <td>1</td>\n",
       "      <td>0.0</td>\n",
       "      <td>zilinsky kraj, cadca</td>\n",
       "      <td>NaN</td>\n",
       "      <td>TEST</td>\n",
       "    </tr>\n",
       "    <tr>\n",
       "      <th>200</th>\n",
       "      <td>259</td>\n",
       "      <td>1</td>\n",
       "      <td>1.0</td>\n",
       "      <td>zilinsky kraj, cadca</td>\n",
       "      <td>NaN</td>\n",
       "      <td>TEST</td>\n",
       "    </tr>\n",
       "    <tr>\n",
       "      <th>...</th>\n",
       "      <td>...</td>\n",
       "      <td>...</td>\n",
       "      <td>...</td>\n",
       "      <td>...</td>\n",
       "      <td>...</td>\n",
       "      <td>...</td>\n",
       "    </tr>\n",
       "    <tr>\n",
       "      <th>1632744</th>\n",
       "      <td>1632745</td>\n",
       "      <td>1</td>\n",
       "      <td>0.0</td>\n",
       "      <td>presovsky kraj, humenne</td>\n",
       "      <td>50.0</td>\n",
       "      <td>TRAIN</td>\n",
       "    </tr>\n",
       "    <tr>\n",
       "      <th>1632752</th>\n",
       "      <td>1632753</td>\n",
       "      <td>1</td>\n",
       "      <td>0.0</td>\n",
       "      <td>ceska republika, cz - ustecky kraj</td>\n",
       "      <td>37.0</td>\n",
       "      <td>TRAIN</td>\n",
       "    </tr>\n",
       "    <tr>\n",
       "      <th>1632782</th>\n",
       "      <td>1632783</td>\n",
       "      <td>1</td>\n",
       "      <td>1.0</td>\n",
       "      <td>trenciansky kraj, povazska bystrica</td>\n",
       "      <td>37.0</td>\n",
       "      <td>TRAIN</td>\n",
       "    </tr>\n",
       "    <tr>\n",
       "      <th>1632784</th>\n",
       "      <td>1632785</td>\n",
       "      <td>1</td>\n",
       "      <td>1.0</td>\n",
       "      <td>trenciansky kraj, povazska bystrica</td>\n",
       "      <td>37.0</td>\n",
       "      <td>TRAIN</td>\n",
       "    </tr>\n",
       "    <tr>\n",
       "      <th>1632791</th>\n",
       "      <td>1632792</td>\n",
       "      <td>1</td>\n",
       "      <td>0.0</td>\n",
       "      <td>trenciansky kraj, bojnice</td>\n",
       "      <td>35.0</td>\n",
       "      <td>TRAIN</td>\n",
       "    </tr>\n",
       "  </tbody>\n",
       "</table>\n",
       "<p>434590 rows × 6 columns</p>\n",
       "</div>"
      ],
      "text/plain": [
       "         user_id  public  gender                               region   AGE  \\\n",
       "65            80       1     1.0     zahranicie, zahranicie - ostatne   NaN   \n",
       "116          140       1     0.0    zilinsky kraj, kysucke nove mesto   NaN   \n",
       "178          229       1     0.0         banskobystricky kraj, brezno   NaN   \n",
       "185          272       1     0.0                 zilinsky kraj, cadca   NaN   \n",
       "200          259       1     1.0                 zilinsky kraj, cadca   NaN   \n",
       "...          ...     ...     ...                                  ...   ...   \n",
       "1632744  1632745       1     0.0              presovsky kraj, humenne  50.0   \n",
       "1632752  1632753       1     0.0   ceska republika, cz - ustecky kraj  37.0   \n",
       "1632782  1632783       1     1.0  trenciansky kraj, povazska bystrica  37.0   \n",
       "1632784  1632785       1     1.0  trenciansky kraj, povazska bystrica  37.0   \n",
       "1632791  1632792       1     0.0            trenciansky kraj, bojnice  35.0   \n",
       "\n",
       "        TRAIN_TEST  \n",
       "65            TEST  \n",
       "116           TEST  \n",
       "178           TEST  \n",
       "185           TEST  \n",
       "200           TEST  \n",
       "...            ...  \n",
       "1632744      TRAIN  \n",
       "1632752      TRAIN  \n",
       "1632782      TRAIN  \n",
       "1632784      TRAIN  \n",
       "1632791      TRAIN  \n",
       "\n",
       "[434590 rows x 6 columns]"
      ]
     },
     "execution_count": 19,
     "metadata": {},
     "output_type": "execute_result"
    }
   ],
   "source": [
    "#we now append the results with the train dataframe so we have an almost complete dataset so we can begin the visualization\n",
    "\n",
    "nodes_test['gender']=prediction['gender']\n",
    "\n",
    "pred_nodes=nodes_test.append(nodes_train)\n",
    "\n",
    "pred_nodes"
   ]
  },
  {
   "cell_type": "code",
   "execution_count": null,
   "id": "fa6929d7",
   "metadata": {},
   "outputs": [],
   "source": [
    "#Due to shortage of time and coding skill i was unable to do the prediction with triads"
   ]
  },
  {
   "cell_type": "markdown",
   "id": "3f9a9a9d",
   "metadata": {},
   "source": [
    "# Visualization"
   ]
  },
  {
   "cell_type": "code",
   "execution_count": 20,
   "id": "3ab4602c",
   "metadata": {},
   "outputs": [],
   "source": [
    "import seaborn as sns\n",
    "import numpy as np\n",
    "import matplotlib.pyplot as plt\n",
    "import seaborn as sns\n",
    "import scipy"
   ]
  },
  {
   "cell_type": "code",
   "execution_count": 22,
   "id": "cdad3488",
   "metadata": {},
   "outputs": [],
   "source": [
    "\n",
    "G= fc.create_graph_from_nodes_and_edges(pred_nodes, edges)\n"
   ]
  },
  {
   "cell_type": "code",
   "execution_count": 23,
   "id": "835f3f20",
   "metadata": {},
   "outputs": [
    {
     "data": {
      "image/png": "[encoded data removed]",
      "text/plain": [
       "<Figure size 432x288 with 1 Axes>"
      ]
     },
     "metadata": {
      "needs_background": "light"
     },
     "output_type": "display_data"
    }
   ],
   "source": [
    "fc.plot_degree_distribution(G)"
   ]
  },
  {
   "cell_type": "markdown",
   "id": "91dcfda5",
   "metadata": {},
   "source": [
    "From the Degree Disstribution we can surely assume that it is not scale-free beacuse of the visible break."
   ]
  },
  {
   "cell_type": "code",
   "execution_count": 24,
   "id": "d2726d37",
   "metadata": {},
   "outputs": [
    {
     "data": {
      "image/png": "[encoded data removed]",
      "text/plain": [
       "<Figure size 432x288 with 1 Axes>"
      ]
     },
     "metadata": {
      "needs_background": "light"
     },
     "output_type": "display_data"
    }
   ],
   "source": [
    "fc.plot_age_distribution_by_gender(pred_nodes)"
   ]
  },
  {
   "cell_type": "markdown",
   "id": "e8482b02",
   "metadata": {},
   "source": [
    "The other easily computable distribution is the gender one. \n",
    "With the increasing age the are far less representatives in the dataset in each gender.\n",
    "Males are generally more active in their middle ages, while females tend to more active in their young and old ages.\n"
   ]
  },
  {
   "cell_type": "code",
   "execution_count": 32,
   "id": "0bf1356b",
   "metadata": {
    "scrolled": true
   },
   "outputs": [
    {
     "data": {
      "text/html": [
       "<div>\n",
       "<style scoped>\n",
       "    .dataframe tbody tr th:only-of-type {\n",
       "        vertical-align: middle;\n",
       "    }\n",
       "\n",
       "    .dataframe tbody tr th {\n",
       "        vertical-align: top;\n",
       "    }\n",
       "\n",
       "    .dataframe thead th {\n",
       "        text-align: right;\n",
       "    }\n",
       "</style>\n",
       "<table border=\"1\" class=\"dataframe\">\n",
       "  <thead>\n",
       "    <tr style=\"text-align: right;\">\n",
       "      <th></th>\n",
       "      <th>user_id</th>\n",
       "      <th>public</th>\n",
       "      <th>gender</th>\n",
       "      <th>region</th>\n",
       "      <th>AGE</th>\n",
       "      <th>TRAIN_TEST</th>\n",
       "      <th>connectivity</th>\n",
       "      <th>triclo</th>\n",
       "    </tr>\n",
       "  </thead>\n",
       "  <tbody>\n",
       "    <tr>\n",
       "      <th>65</th>\n",
       "      <td>80</td>\n",
       "      <td>1</td>\n",
       "      <td>1.0</td>\n",
       "      <td>zahranicie, zahranicie - ostatne</td>\n",
       "      <td>NaN</td>\n",
       "      <td>TEST</td>\n",
       "      <td>17.722222</td>\n",
       "      <td>0.039216</td>\n",
       "    </tr>\n",
       "    <tr>\n",
       "      <th>116</th>\n",
       "      <td>140</td>\n",
       "      <td>1</td>\n",
       "      <td>0.0</td>\n",
       "      <td>zilinsky kraj, kysucke nove mesto</td>\n",
       "      <td>NaN</td>\n",
       "      <td>TEST</td>\n",
       "      <td>22.166667</td>\n",
       "      <td>0.071895</td>\n",
       "    </tr>\n",
       "    <tr>\n",
       "      <th>178</th>\n",
       "      <td>229</td>\n",
       "      <td>1</td>\n",
       "      <td>0.0</td>\n",
       "      <td>banskobystricky kraj, brezno</td>\n",
       "      <td>NaN</td>\n",
       "      <td>TEST</td>\n",
       "      <td>29.600000</td>\n",
       "      <td>0.060504</td>\n",
       "    </tr>\n",
       "    <tr>\n",
       "      <th>185</th>\n",
       "      <td>272</td>\n",
       "      <td>1</td>\n",
       "      <td>0.0</td>\n",
       "      <td>zilinsky kraj, cadca</td>\n",
       "      <td>NaN</td>\n",
       "      <td>TEST</td>\n",
       "      <td>19.571429</td>\n",
       "      <td>0.190476</td>\n",
       "    </tr>\n",
       "    <tr>\n",
       "      <th>200</th>\n",
       "      <td>259</td>\n",
       "      <td>1</td>\n",
       "      <td>1.0</td>\n",
       "      <td>zilinsky kraj, cadca</td>\n",
       "      <td>NaN</td>\n",
       "      <td>TEST</td>\n",
       "      <td>20.300000</td>\n",
       "      <td>0.111111</td>\n",
       "    </tr>\n",
       "    <tr>\n",
       "      <th>...</th>\n",
       "      <td>...</td>\n",
       "      <td>...</td>\n",
       "      <td>...</td>\n",
       "      <td>...</td>\n",
       "      <td>...</td>\n",
       "      <td>...</td>\n",
       "      <td>...</td>\n",
       "      <td>...</td>\n",
       "    </tr>\n",
       "    <tr>\n",
       "      <th>1632744</th>\n",
       "      <td>1632745</td>\n",
       "      <td>1</td>\n",
       "      <td>0.0</td>\n",
       "      <td>presovsky kraj, humenne</td>\n",
       "      <td>50.0</td>\n",
       "      <td>TRAIN</td>\n",
       "      <td>1.000000</td>\n",
       "      <td>0.000000</td>\n",
       "    </tr>\n",
       "    <tr>\n",
       "      <th>1632752</th>\n",
       "      <td>1632753</td>\n",
       "      <td>1</td>\n",
       "      <td>0.0</td>\n",
       "      <td>ceska republika, cz - ustecky kraj</td>\n",
       "      <td>37.0</td>\n",
       "      <td>TRAIN</td>\n",
       "      <td>3.000000</td>\n",
       "      <td>0.000000</td>\n",
       "    </tr>\n",
       "    <tr>\n",
       "      <th>1632782</th>\n",
       "      <td>1632783</td>\n",
       "      <td>1</td>\n",
       "      <td>1.0</td>\n",
       "      <td>trenciansky kraj, povazska bystrica</td>\n",
       "      <td>37.0</td>\n",
       "      <td>TRAIN</td>\n",
       "      <td>1.000000</td>\n",
       "      <td>0.000000</td>\n",
       "    </tr>\n",
       "    <tr>\n",
       "      <th>1632784</th>\n",
       "      <td>1632785</td>\n",
       "      <td>1</td>\n",
       "      <td>1.0</td>\n",
       "      <td>trenciansky kraj, povazska bystrica</td>\n",
       "      <td>37.0</td>\n",
       "      <td>TRAIN</td>\n",
       "      <td>1.000000</td>\n",
       "      <td>0.000000</td>\n",
       "    </tr>\n",
       "    <tr>\n",
       "      <th>1632791</th>\n",
       "      <td>1632792</td>\n",
       "      <td>1</td>\n",
       "      <td>0.0</td>\n",
       "      <td>trenciansky kraj, bojnice</td>\n",
       "      <td>35.0</td>\n",
       "      <td>TRAIN</td>\n",
       "      <td>1.000000</td>\n",
       "      <td>0.000000</td>\n",
       "    </tr>\n",
       "  </tbody>\n",
       "</table>\n",
       "<p>434590 rows × 8 columns</p>\n",
       "</div>"
      ],
      "text/plain": [
       "         user_id  public  gender                               region   AGE  \\\n",
       "65            80       1     1.0     zahranicie, zahranicie - ostatne   NaN   \n",
       "116          140       1     0.0    zilinsky kraj, kysucke nove mesto   NaN   \n",
       "178          229       1     0.0         banskobystricky kraj, brezno   NaN   \n",
       "185          272       1     0.0                 zilinsky kraj, cadca   NaN   \n",
       "200          259       1     1.0                 zilinsky kraj, cadca   NaN   \n",
       "...          ...     ...     ...                                  ...   ...   \n",
       "1632744  1632745       1     0.0              presovsky kraj, humenne  50.0   \n",
       "1632752  1632753       1     0.0   ceska republika, cz - ustecky kraj  37.0   \n",
       "1632782  1632783       1     1.0  trenciansky kraj, povazska bystrica  37.0   \n",
       "1632784  1632785       1     1.0  trenciansky kraj, povazska bystrica  37.0   \n",
       "1632791  1632792       1     0.0            trenciansky kraj, bojnice  35.0   \n",
       "\n",
       "        TRAIN_TEST  connectivity    triclo  \n",
       "65            TEST     17.722222  0.039216  \n",
       "116           TEST     22.166667  0.071895  \n",
       "178           TEST     29.600000  0.060504  \n",
       "185           TEST     19.571429  0.190476  \n",
       "200           TEST     20.300000  0.111111  \n",
       "...            ...           ...       ...  \n",
       "1632744      TRAIN      1.000000  0.000000  \n",
       "1632752      TRAIN      3.000000  0.000000  \n",
       "1632782      TRAIN      1.000000  0.000000  \n",
       "1632784      TRAIN      1.000000  0.000000  \n",
       "1632791      TRAIN      1.000000  0.000000  \n",
       "\n",
       "[434590 rows x 8 columns]"
      ]
     },
     "execution_count": 32,
     "metadata": {},
     "output_type": "execute_result"
    }
   ],
   "source": [
    "#Adding connectivity and triclosure to not just visualize the degree by gender\n",
    "\n",
    "pred_nodes['connectivity']=pred_nodes.user_id.map(nx.average_neighbor_degree(G))\n",
    "pred_nodes['triclo']= pred_nodes.user_id.map(nx.clustering(G))\n",
    "\n",
    "pred_nodes\n"
   ]
  },
  {
   "cell_type": "code",
   "execution_count": 37,
   "id": "6f931d7d",
   "metadata": {},
   "outputs": [],
   "source": [
    "# We can check different node level statistics by gender like connectivity  \n",
    "def plot_node_stats_by_gender(nodes, G, kind):\n",
    "    \"\"\"Plot the average of node degree across age and gender\"\"\"\n",
    "\n",
    "    nodes_w_degree = nodes.set_index(\"user_id\").merge(\n",
    "        pd.Series(dict(G.degree)).to_frame(),\n",
    "        how=\"left\",\n",
    "        left_index=True,\n",
    "        right_index=True,\n",
    "    )\n",
    "    nodes_w_degree = nodes_w_degree.rename({0: \"degree\"}, axis=1)\n",
    "    plot_df = (\n",
    "        nodes_w_degree.groupby([\"AGE\", \"gender\"]).agg({\"degree\": \"mean\"}).reset_index()\n",
    "    )\n",
    "    \n",
    "    if kind == \"degree\":\n",
    "        sns.lineplot(data=plot_df, x=\"AGE\", y=\"degree\", hue=\"gender\")\n",
    "    elif kind == \"connectivity\":\n",
    "        sns.lineplot(data=pred_nodes, x=\"AGE\", y=\"connectivity\", hue=\"gender\")\n",
    "    elif kind ==\"tri\":\n",
    "        sns.lineplot(data=pred_nodes, x=\"AGE\", y=\"triclo\", hue=\"gender\")"
   ]
  },
  {
   "cell_type": "code",
   "execution_count": 38,
   "id": "0354e746",
   "metadata": {},
   "outputs": [
    {
     "data": {
      "image/png": "[encoded data removed]",
      "text/plain": [
       "<Figure size 432x288 with 1 Axes>"
      ]
     },
     "metadata": {
      "needs_background": "light"
     },
     "output_type": "display_data"
    }
   ],
   "source": [
    "plot_node_stats_by_gender(pred_nodes, G, 'degree')"
   ]
  },
  {
   "cell_type": "code",
   "execution_count": 39,
   "id": "d37945a4",
   "metadata": {},
   "outputs": [
    {
     "data": {
      "image/png": "[encoded data removed]",
      "text/plain": [
       "<Figure size 432x288 with 1 Axes>"
      ]
     },
     "metadata": {
      "needs_background": "light"
     },
     "output_type": "display_data"
    }
   ],
   "source": [
    "plot_node_stats_by_gender(pred_nodes, G, 'connectivity')"
   ]
  },
  {
   "cell_type": "code",
   "execution_count": 41,
   "id": "7a05b5d2",
   "metadata": {},
   "outputs": [
    {
     "data": {
      "image/png": "[encoded data removed]",
      "text/plain": [
       "<Figure size 432x288 with 1 Axes>"
      ]
     },
     "metadata": {
      "needs_background": "light"
     },
     "output_type": "display_data"
    }
   ],
   "source": [
    "plot_node_stats_by_gender(pred_nodes, G, 'tri')"
   ]
  },
  {
   "cell_type": "markdown",
   "id": "a744e980",
   "metadata": {},
   "source": [
    "I try to show some other node level statistics not just the 'degree plot'.\n",
    "\n",
    "In terms of degree centrality there is not a significant deference between the genders. But that is true for most of the research made. It peaks around the start of adulthood and starting to fade away. But that is not a suprise, we could have easily foresee this at the age distribution plot. Most of the data consist young adults so it is natural that they have the highest avarge node degree. \n",
    "\n",
    "The connectivity graph is similar if not almost the same as the degree graph. The reasons are not differenct either. On the other hand we could see the same thing in the articel. The reason behind this is natural. The young adults have the widest range of connections. They meet different peoples from the high school, uni, workplace and the childhood friends are also around, so basically thats the most generally the most hectic period in terms of communication.\n",
    "\n",
    "Clustering coefficient is constantly increasing from the age of 30. But the differences are not that large with the increasing age (+_ 0.4). Due to the lack of eldery in the dataset it is hard to make conclusions towards later ages. "
   ]
  },
  {
   "cell_type": "code",
   "execution_count": 46,
   "id": "310246f1",
   "metadata": {},
   "outputs": [],
   "source": [
    "#Edge distribution realitions of age (i was unable to filter by gender)\n",
    "\n",
    "def plot_age_relations_heatmap(edges_w_features,how):\n",
    "    \"\"\"Plot a heatmap that represents the distribution of edges\"\"\"\n",
    "\n",
    "    plot_df = edges_w_features.groupby([\"gender_x\", \"gender_y\", \"AGE_x\", \"AGE_y\"]).agg(\n",
    "        {\"smaller_id\": \"count\"}\n",
    "    )\n",
    "    plot_df_w_w = plot_df.loc[(0, 0)].reset_index()\n",
    "    plot_df_heatmap = plot_df_w_w.pivot_table(\n",
    "        index=\"AGE_x\", columns=\"AGE_y\", values=\"smaller_id\"\n",
    "    ).fillna(0)\n",
    "    plot_df_heatmap_logged = np.log(plot_df_heatmap + 1)\n",
    "    \n",
    "    if how==\"nonlog\":\n",
    "        sns.heatmap(plot_df_heatmap)\n",
    "    else:\n",
    "        sns.heatmap(plot_df_heatmap_logged)\n",
    "    \n",
    "    \n",
    "    "
   ]
  },
  {
   "cell_type": "code",
   "execution_count": 50,
   "id": "0ecce1c2",
   "metadata": {},
   "outputs": [],
   "source": [
    "edges_w_features = fc.add_node_features_to_edges(pred_nodes, edges)"
   ]
  },
  {
   "cell_type": "code",
   "execution_count": 51,
   "id": "97cece75",
   "metadata": {},
   "outputs": [
    {
     "data": {
      "image/png": "[encoded data removed]",
      "text/plain": [
       "<Figure size 432x288 with 2 Axes>"
      ]
     },
     "metadata": {
      "needs_background": "light"
     },
     "output_type": "display_data"
    }
   ],
   "source": [
    "plot_age_relations_heatmap(edges_w_features,\"nonlog\")"
   ]
  },
  {
   "cell_type": "code",
   "execution_count": 53,
   "id": "f31144c6",
   "metadata": {},
   "outputs": [
    {
     "data": {
      "image/png": "[encoded data removed]",
      "text/plain": [
       "<Figure size 432x288 with 2 Axes>"
      ]
     },
     "metadata": {
      "needs_background": "light"
     },
     "output_type": "display_data"
    }
   ],
   "source": [
    "plot_age_relations_heatmap(edges_w_features,\"\")"
   ]
  },
  {
   "cell_type": "markdown",
   "id": "ffaea4db",
   "metadata": {},
   "source": [
    "(If we do not log the values in the heatmap, we could only see the highest intensity spots beacaouse of the large differences. It can be useful but only in some niche situations.)\n",
    "\n",
    "The heatmap also supports our assumptions, that the structure of dataset really effects our research. We can not assume that the heatmap would be the same with more ageing people in the dataset.\n",
    "But we can make some conclusions regardless. \n",
    "People generally communicates most with the same age group as themselves. We can easily see the white line in the middle of the graph. \n",
    "Young people generally befriends more people from different age groups, but mostly middle aged people (15-29).\n",
    "We can see higher a bit higher intensity beetween the youngest and the oldest age group. Thats mainly due the grandchild-grandparent connections.\n",
    "\n",
    "\n"
   ]
  }
 ],
 "metadata": {
  "kernelspec": {
   "display_name": "Python 3",
   "language": "python",
   "name": "python3"
  },
  "language_info": {
   "codemirror_mode": {
    "name": "ipython",
    "version": 3
   },
   "file_extension": ".py",
   "mimetype": "text/x-python",
   "name": "python",
   "nbconvert_exporter": "python",
   "pygments_lexer": "ipython3",
   "version": "3.8.8"
  }
 },
 "nbformat": 4,
 "nbformat_minor": 5
}
